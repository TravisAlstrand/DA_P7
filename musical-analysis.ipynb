{
 "cells": [
  {
   "cell_type": "code",
   "execution_count": 44,
   "metadata": {},
   "outputs": [],
   "source": [
    "import pandas as pd\n",
    "from matplotlib import pyplot as plt \n",
    "import seaborn as snes"
   ]
  },
  {
   "cell_type": "markdown",
   "metadata": {},
   "source": [
    "## Merging all CSV files into a single dataset."
   ]
  },
  {
   "cell_type": "code",
   "execution_count": 45,
   "metadata": {},
   "outputs": [
    {
     "data": {
      "text/html": [
       "<div>\n",
       "<style scoped>\n",
       "    .dataframe tbody tr th:only-of-type {\n",
       "        vertical-align: middle;\n",
       "    }\n",
       "\n",
       "    .dataframe tbody tr th {\n",
       "        vertical-align: top;\n",
       "    }\n",
       "\n",
       "    .dataframe thead th {\n",
       "        text-align: right;\n",
       "    }\n",
       "</style>\n",
       "<table border=\"1\" class=\"dataframe\">\n",
       "  <thead>\n",
       "    <tr style=\"text-align: right;\">\n",
       "      <th></th>\n",
       "      <th>Unnamed: 0</th>\n",
       "      <th>title</th>\n",
       "      <th>artist</th>\n",
       "      <th>top genre</th>\n",
       "      <th>year</th>\n",
       "      <th>bpm</th>\n",
       "      <th>nrgy</th>\n",
       "      <th>dnce</th>\n",
       "      <th>dB</th>\n",
       "      <th>live</th>\n",
       "      <th>val</th>\n",
       "      <th>dur</th>\n",
       "      <th>acous</th>\n",
       "      <th>spch</th>\n",
       "      <th>pop</th>\n",
       "    </tr>\n",
       "  </thead>\n",
       "  <tbody>\n",
       "    <tr>\n",
       "      <th>0</th>\n",
       "      <td>1</td>\n",
       "      <td>Hey, Soul Sister</td>\n",
       "      <td>Train</td>\n",
       "      <td>neo mellow</td>\n",
       "      <td>2010</td>\n",
       "      <td>97</td>\n",
       "      <td>89</td>\n",
       "      <td>67</td>\n",
       "      <td>-4</td>\n",
       "      <td>8</td>\n",
       "      <td>80</td>\n",
       "      <td>217</td>\n",
       "      <td>19</td>\n",
       "      <td>4</td>\n",
       "      <td>83</td>\n",
       "    </tr>\n",
       "    <tr>\n",
       "      <th>1</th>\n",
       "      <td>2</td>\n",
       "      <td>Love The Way You Lie</td>\n",
       "      <td>Eminem</td>\n",
       "      <td>detroit hip hop</td>\n",
       "      <td>2010</td>\n",
       "      <td>87</td>\n",
       "      <td>93</td>\n",
       "      <td>75</td>\n",
       "      <td>-5</td>\n",
       "      <td>52</td>\n",
       "      <td>64</td>\n",
       "      <td>263</td>\n",
       "      <td>24</td>\n",
       "      <td>23</td>\n",
       "      <td>82</td>\n",
       "    </tr>\n",
       "  </tbody>\n",
       "</table>\n",
       "</div>"
      ],
      "text/plain": [
       "   Unnamed: 0                 title  artist        top genre  year  bpm  nrgy   \n",
       "0           1      Hey, Soul Sister   Train       neo mellow  2010   97    89  \\\n",
       "1           2  Love The Way You Lie  Eminem  detroit hip hop  2010   87    93   \n",
       "\n",
       "   dnce  dB  live  val  dur  acous  spch  pop  \n",
       "0    67  -4     8   80  217     19     4   83  \n",
       "1    75  -5    52   64  263     24    23   82  "
      ]
     },
     "execution_count": 45,
     "metadata": {},
     "output_type": "execute_result"
    }
   ],
   "source": [
    "csv_list = [\"./spotifysongscsvs/2010.csv\", \"./spotifysongscsvs/2011.csv\", \"./spotifysongscsvs/2012.csv\", \"./spotifysongscsvs/2013.csv\", \"./spotifysongscsvs/2014.csv\", \"./spotifysongscsvs/2015.csv\", \"./spotifysongscsvs/2016.csv\", \"./spotifysongscsvs/2017.csv\", \"./spotifysongscsvs/2018.csv\", \"./spotifysongscsvs/2019.csv\"]\n",
    "all_dataframes = []\n",
    "\n",
    "for file in csv_list:\n",
    "    dataframe = pd.read_csv(file)\n",
    "    all_dataframes.append(dataframe)\n",
    "\n",
    "all_top_songs = pd.concat(all_dataframes, ignore_index=True)\n",
    "all_top_songs.head(2)"
   ]
  },
  {
   "cell_type": "markdown",
   "metadata": {},
   "source": [
    "___"
   ]
  },
  {
   "cell_type": "markdown",
   "metadata": {},
   "source": [
    "## Export the combined dataset into a CSV"
   ]
  },
  {
   "cell_type": "code",
   "execution_count": 46,
   "metadata": {},
   "outputs": [],
   "source": [
    "all_top_songs.to_csv(\"./top_spotify_songs.csv\", index=False)"
   ]
  },
  {
   "cell_type": "markdown",
   "metadata": {},
   "source": [
    "___"
   ]
  },
  {
   "cell_type": "markdown",
   "metadata": {},
   "source": [
    "## Clean the dataset"
   ]
  },
  {
   "cell_type": "code",
   "execution_count": 47,
   "metadata": {},
   "outputs": [
    {
     "name": "stdout",
     "output_type": "stream",
     "text": [
      "<class 'pandas.core.frame.DataFrame'>\n",
      "RangeIndex: 603 entries, 0 to 602\n",
      "Data columns (total 15 columns):\n",
      " #   Column      Non-Null Count  Dtype \n",
      "---  ------      --------------  ----- \n",
      " 0   Unnamed: 0  603 non-null    int64 \n",
      " 1   title       603 non-null    object\n",
      " 2   artist      603 non-null    object\n",
      " 3   top genre   603 non-null    object\n",
      " 4   year        603 non-null    int64 \n",
      " 5   bpm         603 non-null    int64 \n",
      " 6   nrgy        603 non-null    int64 \n",
      " 7   dnce        603 non-null    int64 \n",
      " 8   dB          603 non-null    int64 \n",
      " 9   live        603 non-null    int64 \n",
      " 10  val         603 non-null    int64 \n",
      " 11  dur         603 non-null    int64 \n",
      " 12  acous       603 non-null    int64 \n",
      " 13  spch        603 non-null    int64 \n",
      " 14  pop         603 non-null    int64 \n",
      "dtypes: int64(12), object(3)\n",
      "memory usage: 70.8+ KB\n"
     ]
    }
   ],
   "source": [
    "all_top_songs.info()\n",
    "# enter shrug emoji here"
   ]
  },
  {
   "cell_type": "markdown",
   "metadata": {},
   "source": [
    "___"
   ]
  },
  {
   "cell_type": "markdown",
   "metadata": {},
   "source": [
    "## What is the most popular song in the dataset?"
   ]
  },
  {
   "cell_type": "code",
   "execution_count": 74,
   "metadata": {},
   "outputs": [
    {
     "name": "stdout",
     "output_type": "stream",
     "text": [
      "The most popular song in the dataset is \"Memories\" by Maroon 5.\n"
     ]
    }
   ],
   "source": [
    "most_popular_index = all_top_songs[\"pop\"].idxmax()\n",
    "most_popular_song = all_top_songs.loc[most_popular_index, \"title\"]\n",
    "most_popular_song_artist = all_top_songs.loc[most_popular_index, \"artist\"]\n",
    "print(f\"The most popular song in the dataset is \\\"{most_popular_song}\\\" by {most_popular_song_artist}.\")"
   ]
  },
  {
   "cell_type": "markdown",
   "metadata": {},
   "source": [
    "___"
   ]
  },
  {
   "cell_type": "markdown",
   "metadata": {},
   "source": [
    "## What artist has the most songs in the dataset?"
   ]
  },
  {
   "cell_type": "code",
   "execution_count": 49,
   "metadata": {},
   "outputs": [
    {
     "name": "stdout",
     "output_type": "stream",
     "text": [
      "The artist with the most songs in the dataset is Katy Perry with 17 songs.\n"
     ]
    }
   ],
   "source": [
    "artist_counts = all_top_songs[\"artist\"].value_counts()\n",
    "artist_with_most_songs = artist_counts.idxmax()\n",
    "num_songs_by_fanciest_pantsiest_artist = artist_counts.max()\n",
    "print(f\"The artist with the most songs in the dataset is {artist_with_most_songs} with {num_songs_by_fanciest_pantsiest_artist} songs.\")"
   ]
  },
  {
   "cell_type": "markdown",
   "metadata": {},
   "source": [
    "___"
   ]
  },
  {
   "cell_type": "markdown",
   "metadata": {},
   "source": [
    "## What is the most popular genre of music in the dataset?"
   ]
  },
  {
   "cell_type": "code",
   "execution_count": 50,
   "metadata": {},
   "outputs": [
    {
     "name": "stdout",
     "output_type": "stream",
     "text": [
      "The most popular genre is \"dance pop\" with 327 songs in the dataset.\n"
     ]
    }
   ],
   "source": [
    "genre_counts = all_top_songs[\"top genre\"].value_counts()\n",
    "most_popular_genre = genre_counts.idxmax()\n",
    "most_popular_genre_count = genre_counts.max()\n",
    "print(f\"The most popular genre is \\\"{most_popular_genre}\\\" with {most_popular_genre_count} songs in the dataset.\")"
   ]
  },
  {
   "cell_type": "markdown",
   "metadata": {},
   "source": [
    "___"
   ]
  },
  {
   "cell_type": "markdown",
   "metadata": {},
   "source": [
    "## Are there any songs in the dataset more than once?"
   ]
  },
  {
   "cell_type": "code",
   "execution_count": 75,
   "metadata": {},
   "outputs": [
    {
     "name": "stdout",
     "output_type": "stream",
     "text": [
      "Yes.\n"
     ]
    },
    {
     "data": {
      "text/html": [
       "<div>\n",
       "<style scoped>\n",
       "    .dataframe tbody tr th:only-of-type {\n",
       "        vertical-align: middle;\n",
       "    }\n",
       "\n",
       "    .dataframe tbody tr th {\n",
       "        vertical-align: top;\n",
       "    }\n",
       "\n",
       "    .dataframe thead th {\n",
       "        text-align: right;\n",
       "    }\n",
       "</style>\n",
       "<table border=\"1\" class=\"dataframe\">\n",
       "  <thead>\n",
       "    <tr style=\"text-align: right;\">\n",
       "      <th></th>\n",
       "      <th>title</th>\n",
       "      <th>count</th>\n",
       "    </tr>\n",
       "  </thead>\n",
       "  <tbody>\n",
       "    <tr>\n",
       "      <th>0</th>\n",
       "      <td>Just the Way You Are</td>\n",
       "      <td>2</td>\n",
       "    </tr>\n",
       "    <tr>\n",
       "      <th>1</th>\n",
       "      <td>Love Yourself</td>\n",
       "      <td>2</td>\n",
       "    </tr>\n",
       "    <tr>\n",
       "      <th>2</th>\n",
       "      <td>First Time</td>\n",
       "      <td>2</td>\n",
       "    </tr>\n",
       "    <tr>\n",
       "      <th>3</th>\n",
       "      <td>All I Ask</td>\n",
       "      <td>2</td>\n",
       "    </tr>\n",
       "    <tr>\n",
       "      <th>4</th>\n",
       "      <td>Here</td>\n",
       "      <td>2</td>\n",
       "    </tr>\n",
       "    <tr>\n",
       "      <th>5</th>\n",
       "      <td>Runnin' (Lose It All)</td>\n",
       "      <td>2</td>\n",
       "    </tr>\n",
       "    <tr>\n",
       "      <th>6</th>\n",
       "      <td>Company</td>\n",
       "      <td>2</td>\n",
       "    </tr>\n",
       "    <tr>\n",
       "      <th>7</th>\n",
       "      <td>Stitches</td>\n",
       "      <td>2</td>\n",
       "    </tr>\n",
       "    <tr>\n",
       "      <th>8</th>\n",
       "      <td>Sugar</td>\n",
       "      <td>2</td>\n",
       "    </tr>\n",
       "    <tr>\n",
       "      <th>9</th>\n",
       "      <td>The Hills</td>\n",
       "      <td>2</td>\n",
       "    </tr>\n",
       "    <tr>\n",
       "      <th>10</th>\n",
       "      <td>Marry You</td>\n",
       "      <td>2</td>\n",
       "    </tr>\n",
       "    <tr>\n",
       "      <th>11</th>\n",
       "      <td>Say Something</td>\n",
       "      <td>2</td>\n",
       "    </tr>\n",
       "    <tr>\n",
       "      <th>12</th>\n",
       "      <td>A Little Party Never Killed Nobody (All We Got)</td>\n",
       "      <td>2</td>\n",
       "    </tr>\n",
       "    <tr>\n",
       "      <th>13</th>\n",
       "      <td>We Are Never Ever Getting Back Together</td>\n",
       "      <td>2</td>\n",
       "    </tr>\n",
       "    <tr>\n",
       "      <th>14</th>\n",
       "      <td>Hello</td>\n",
       "      <td>2</td>\n",
       "    </tr>\n",
       "    <tr>\n",
       "      <th>15</th>\n",
       "      <td>Castle Walls (feat. Christina Aguilera)</td>\n",
       "      <td>2</td>\n",
       "    </tr>\n",
       "    <tr>\n",
       "      <th>16</th>\n",
       "      <td>Written in the Stars (feat. Eric Turner)</td>\n",
       "      <td>2</td>\n",
       "    </tr>\n",
       "    <tr>\n",
       "      <th>17</th>\n",
       "      <td>I Like It</td>\n",
       "      <td>2</td>\n",
       "    </tr>\n",
       "    <tr>\n",
       "      <th>18</th>\n",
       "      <td>Kissing Strangers</td>\n",
       "      <td>2</td>\n",
       "    </tr>\n",
       "  </tbody>\n",
       "</table>\n",
       "</div>"
      ],
      "text/plain": [
       "                                              title  count\n",
       "0                              Just the Way You Are      2\n",
       "1                                     Love Yourself      2\n",
       "2                                        First Time      2\n",
       "3                                         All I Ask      2\n",
       "4                                              Here      2\n",
       "5                             Runnin' (Lose It All)      2\n",
       "6                                           Company      2\n",
       "7                                          Stitches      2\n",
       "8                                             Sugar      2\n",
       "9                                         The Hills      2\n",
       "10                                        Marry You      2\n",
       "11                                    Say Something      2\n",
       "12  A Little Party Never Killed Nobody (All We Got)      2\n",
       "13          We Are Never Ever Getting Back Together      2\n",
       "14                                            Hello      2\n",
       "15          Castle Walls (feat. Christina Aguilera)      2\n",
       "16         Written in the Stars (feat. Eric Turner)      2\n",
       "17                                        I Like It      2\n",
       "18                                Kissing Strangers      2"
      ]
     },
     "execution_count": 75,
     "metadata": {},
     "output_type": "execute_result"
    }
   ],
   "source": [
    "duplicate_songs = all_top_songs[all_top_songs.duplicated(subset=\"title\", keep=False)]\n",
    "duplicate_song_counts = duplicate_songs[\"title\"].value_counts().reset_index()\n",
    "print(\"Yes.\")\n",
    "duplicate_song_counts"
   ]
  },
  {
   "cell_type": "markdown",
   "metadata": {},
   "source": [
    "___"
   ]
  },
  {
   "cell_type": "markdown",
   "metadata": {},
   "source": [
    "## Is there a relationship between popularity and danceability?"
   ]
  },
  {
   "cell_type": "code",
   "execution_count": 54,
   "metadata": {},
   "outputs": [
    {
     "data": {
      "image/png": "[encoded data removed]",
      "text/plain": [
       "<Figure size 1000x600 with 1 Axes>"
      ]
     },
     "metadata": {},
     "output_type": "display_data"
    }
   ],
   "source": [
    "plt.figure(figsize=(10, 6))\n",
    "snes.scatterplot(x=\"pop\", y=\"dnce\", data=all_top_songs, alpha=0.5)\n",
    "plt.xlabel(\"Popularity\")\n",
    "plt.ylabel(\"Danceability\")\n",
    "plt.title(\"Relationship between Popularity and Danceability\")\n",
    "plt.show()"
   ]
  },
  {
   "cell_type": "markdown",
   "metadata": {},
   "source": [
    "Seen in the scatterplot above, there does not seem to be a positive or negative correlation between popularity and danceability. "
   ]
  },
  {
   "cell_type": "markdown",
   "metadata": {},
   "source": [
    "___"
   ]
  },
  {
   "cell_type": "markdown",
   "metadata": {},
   "source": [
    "## Does having a higher bpm lead to having a higher energy score?"
   ]
  },
  {
   "cell_type": "code",
   "execution_count": 57,
   "metadata": {},
   "outputs": [
    {
     "data": {
      "image/png": "[encoded data removed]",
      "text/plain": [
       "<Figure size 1000x600 with 1 Axes>"
      ]
     },
     "metadata": {},
     "output_type": "display_data"
    }
   ],
   "source": [
    "plt.figure(figsize=(10, 6))\n",
    "snes.scatterplot(x=\"bpm\", y=\"nrgy\", data=all_top_songs, alpha=0.5)\n",
    "plt.xlabel(\"Beats Per Minute\")\n",
    "plt.ylabel(\"Energy\")\n",
    "plt.title(\"Relationship between BPM & Energy\")\n",
    "plt.show()"
   ]
  },
  {
   "cell_type": "markdown",
   "metadata": {},
   "source": [
    "As seen in the scatterplot above, there does not seem to be a positive or negative correlation between bpm and energy."
   ]
  },
  {
   "cell_type": "markdown",
   "metadata": {},
   "source": [
    "___"
   ]
  },
  {
   "cell_type": "markdown",
   "metadata": {},
   "source": [
    "## Which genre has the highest energy score?"
   ]
  },
  {
   "cell_type": "code",
   "execution_count": 63,
   "metadata": {},
   "outputs": [
    {
     "name": "stdout",
     "output_type": "stream",
     "text": [
      "The genre with the highest energy is \"french indie pop\" with an average energy score of 89.0.\n"
     ]
    }
   ],
   "source": [
    "genre_energy_mean = all_top_songs.groupby(\"top genre\")[\"nrgy\"].mean().reset_index()\n",
    "highest_energy_genre = genre_energy_mean.loc[genre_energy_mean[\"nrgy\"].idxmax()]\n",
    "print(f\"The genre with the highest energy is \\\"{highest_energy_genre['top genre']}\\\" with an average energy score of {highest_energy_genre['nrgy']}.\")"
   ]
  },
  {
   "cell_type": "markdown",
   "metadata": {},
   "source": [
    "___"
   ]
  },
  {
   "cell_type": "markdown",
   "metadata": {},
   "source": [
    "## What percentage of songs may have been recorded live?"
   ]
  },
  {
   "cell_type": "code",
   "execution_count": 66,
   "metadata": {},
   "outputs": [
    {
     "name": "stdout",
     "output_type": "stream",
     "text": [
      "The percentage of songs likely recorded live is 2.99%.\n"
     ]
    }
   ],
   "source": [
    "live_songs = all_top_songs[all_top_songs[\"live\"] > 50]\n",
    "total_songs = len(all_top_songs)\n",
    "live_percentage = (len(live_songs) / total_songs) * 100\n",
    "print(f\"The percentage of songs likely recorded live is {live_percentage:.2f}%.\")"
   ]
  },
  {
   "cell_type": "markdown",
   "metadata": {},
   "source": [
    "___"
   ]
  },
  {
   "cell_type": "markdown",
   "metadata": {},
   "source": [
    "## What percentage of songs were acoustic?"
   ]
  },
  {
   "cell_type": "code",
   "execution_count": 67,
   "metadata": {},
   "outputs": [
    {
     "name": "stdout",
     "output_type": "stream",
     "text": [
      "The percentage of likely acoustic songs is 7.30%.\n"
     ]
    }
   ],
   "source": [
    "acoustic_songs = all_top_songs[all_top_songs[\"acous\"] > 50]\n",
    "acoustic_percentage = (len(acoustic_songs) / total_songs) * 100\n",
    "print(f\"The percentage of likely acoustic songs is {acoustic_percentage:.2f}%.\")"
   ]
  },
  {
   "cell_type": "markdown",
   "metadata": {},
   "source": [
    "___"
   ]
  },
  {
   "cell_type": "markdown",
   "metadata": {},
   "source": [
    "## Which year's songs have the highest amount of spoken word in the song?"
   ]
  },
  {
   "cell_type": "code",
   "execution_count": 73,
   "metadata": {},
   "outputs": [
    {
     "name": "stdout",
     "output_type": "stream",
     "text": [
      "The year with the highest speech in songs was 2017 with an average score of 9.78.\n"
     ]
    }
   ],
   "source": [
    "yearly_speech_mean = all_top_songs.groupby(\"year\")[\"spch\"].mean().reset_index()\n",
    "highest_speech_year = yearly_speech_mean.loc[yearly_speech_mean[\"spch\"].idxmax()]\n",
    "print(f\"The year with the highest speech in songs was {int(highest_speech_year['year'])} with an average score of {highest_speech_year['spch']:.2f}.\")"
   ]
  },
  {
   "cell_type": "markdown",
   "metadata": {},
   "source": [
    "___"
   ]
  }
 ],
 "metadata": {
  "kernelspec": {
   "display_name": "Python 3",
   "language": "python",
   "name": "python3"
  },
  "language_info": {
   "codemirror_mode": {
    "name": "ipython",
    "version": 3
   },
   "file_extension": ".py",
   "mimetype": "text/x-python",
   "name": "python",
   "nbconvert_exporter": "python",
   "pygments_lexer": "ipython3",
   "version": "3.11.0"
  },
  "orig_nbformat": 4
 },
 "nbformat": 4,
 "nbformat_minor": 2
}
